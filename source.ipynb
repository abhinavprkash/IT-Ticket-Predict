{
 "cells": [
  {
   "cell_type": "markdown",
   "metadata": {},
   "source": [
    "***IT SUPPORT TICKET PREDICTION*** "
   ]
  },
  {
   "cell_type": "markdown",
   "metadata": {},
   "source": [
    "*IMPORTS*"
   ]
  },
  {
   "cell_type": "code",
   "execution_count": 1,
   "metadata": {},
   "outputs": [
    {
     "name": "stdout",
     "output_type": "stream",
     "text": [
      "Packages imported successfully!\n"
     ]
    }
   ],
   "source": [
    "import numpy as np\n",
    "import pandas as pd\n",
    "import matplotlib.pyplot as plt\n",
    "import seaborn as sns\n",
    "import string\n",
    "import re\n",
    "\n",
    "#sci-kit\n",
    "from sklearn.model_selection import train_test_split\n",
    "from sklearn.feature_extraction.text import TfidfVectorizer\n",
    "from sklearn.feature_extraction.text import CountVectorizer, TfidfTransformer\n",
    "from sklearn.pipeline import Pipeline\n",
    "from sklearn import metrics\n",
    "from sklearn.naive_bayes import MultinomialNB\n",
    "from sklearn.metrics import confusion_matrix\n",
    "from sklearn.metrics import classification_report\n",
    "from sklearn.svm import LinearSVC\n",
    "from sklearn.naive_bayes import BernoulliNB\n",
    "from sklearn.linear_model import LogisticRegression\n",
    "\n",
    "#nltk\n",
    "import nltk\n",
    "from nltk.stem.snowball import SnowballStemmer\n",
    "from nltk.tokenize import RegexpTokenizer\n",
    "\n",
    "#wordcloud\n",
    "from wordcloud import WordCloud\n",
    "\n",
    "#flask\n",
    "from flask import Flask, render_template, request\n",
    "print(\"Packages imported successfully!\")"
   ]
  },
  {
   "cell_type": "markdown",
   "metadata": {},
   "source": [
    "*LOADING DATA*"
   ]
  },
  {
   "cell_type": "code",
   "execution_count": 2,
   "metadata": {},
   "outputs": [
    {
     "name": "stdout",
     "output_type": "stream",
     "text": [
      "Data loaded successfully!\n"
     ]
    }
   ],
   "source": [
    "#load data\n",
    "path = 'Datasets/tickets.csv'\n",
    "tickets = pd.read_csv(path)\n",
    "print(\"Data loaded successfully!\")"
   ]
  },
  {
   "cell_type": "markdown",
   "metadata": {},
   "source": [
    "*EXPLORATORY DATA ANALYSIS*"
   ]
  },
  {
   "cell_type": "code",
   "execution_count": 3,
   "metadata": {},
   "outputs": [
    {
     "data": {
      "text/html": [
       "<div>\n",
       "<style scoped>\n",
       "    .dataframe tbody tr th:only-of-type {\n",
       "        vertical-align: middle;\n",
       "    }\n",
       "\n",
       "    .dataframe tbody tr th {\n",
       "        vertical-align: top;\n",
       "    }\n",
       "\n",
       "    .dataframe thead th {\n",
       "        text-align: right;\n",
       "    }\n",
       "</style>\n",
       "<table border=\"1\" class=\"dataframe\">\n",
       "  <thead>\n",
       "    <tr style=\"text-align: right;\">\n",
       "      <th></th>\n",
       "      <th>Description</th>\n",
       "      <th>Category</th>\n",
       "    </tr>\n",
       "  </thead>\n",
       "  <tbody>\n",
       "    <tr>\n",
       "      <th>0</th>\n",
       "      <td>hi since recruiter lead permission approve req...</td>\n",
       "      <td>D</td>\n",
       "    </tr>\n",
       "    <tr>\n",
       "      <th>1</th>\n",
       "      <td>re expire days hi ask help update passwords co...</td>\n",
       "      <td>D</td>\n",
       "    </tr>\n",
       "    <tr>\n",
       "      <th>2</th>\n",
       "      <td>verification warning hi has got attached pleas...</td>\n",
       "      <td>D</td>\n",
       "    </tr>\n",
       "    <tr>\n",
       "      <th>3</th>\n",
       "      <td>please dear looks blacklisted receiving mails ...</td>\n",
       "      <td>D</td>\n",
       "    </tr>\n",
       "    <tr>\n",
       "      <th>4</th>\n",
       "      <td>dear modules report report cost thank much reg...</td>\n",
       "      <td>D</td>\n",
       "    </tr>\n",
       "  </tbody>\n",
       "</table>\n",
       "</div>"
      ],
      "text/plain": [
       "                                         Description Category\n",
       "0  hi since recruiter lead permission approve req...        D\n",
       "1  re expire days hi ask help update passwords co...        D\n",
       "2  verification warning hi has got attached pleas...        D\n",
       "3  please dear looks blacklisted receiving mails ...        D\n",
       "4  dear modules report report cost thank much reg...        D"
      ]
     },
     "execution_count": 3,
     "metadata": {},
     "output_type": "execute_result"
    }
   ],
   "source": [
    "#how our data looks\n",
    "tickets.head()"
   ]
  },
  {
   "cell_type": "code",
   "execution_count": 4,
   "metadata": {},
   "outputs": [
    {
     "data": {
      "text/plain": [
       "(3000, 2)"
      ]
     },
     "execution_count": 4,
     "metadata": {},
     "output_type": "execute_result"
    }
   ],
   "source": [
    "#dimensions of data\n",
    "tickets.shape"
   ]
  },
  {
   "cell_type": "code",
   "execution_count": 5,
   "metadata": {},
   "outputs": [
    {
     "data": {
      "text/plain": [
       "D    600\n",
       "E    600\n",
       "A    600\n",
       "B    600\n",
       "C    600\n",
       "Name: Category, dtype: int64"
      ]
     },
     "execution_count": 5,
     "metadata": {},
     "output_type": "execute_result"
    }
   ],
   "source": [
    "#value count of each category\n",
    "tickets['Category'].value_counts()"
   ]
  },
  {
   "cell_type": "code",
   "execution_count": 6,
   "metadata": {},
   "outputs": [
    {
     "data": {
      "text/html": [
       "<div>\n",
       "<style scoped>\n",
       "    .dataframe tbody tr th:only-of-type {\n",
       "        vertical-align: middle;\n",
       "    }\n",
       "\n",
       "    .dataframe tbody tr th {\n",
       "        vertical-align: top;\n",
       "    }\n",
       "\n",
       "    .dataframe thead th {\n",
       "        text-align: right;\n",
       "    }\n",
       "</style>\n",
       "<table border=\"1\" class=\"dataframe\">\n",
       "  <thead>\n",
       "    <tr style=\"text-align: right;\">\n",
       "      <th></th>\n",
       "      <th>Description</th>\n",
       "      <th>Category</th>\n",
       "    </tr>\n",
       "  </thead>\n",
       "  <tbody>\n",
       "    <tr>\n",
       "      <th>count</th>\n",
       "      <td>3000</td>\n",
       "      <td>3000</td>\n",
       "    </tr>\n",
       "    <tr>\n",
       "      <th>unique</th>\n",
       "      <td>3000</td>\n",
       "      <td>5</td>\n",
       "    </tr>\n",
       "    <tr>\n",
       "      <th>top</th>\n",
       "      <td>hi since recruiter lead permission approve req...</td>\n",
       "      <td>D</td>\n",
       "    </tr>\n",
       "    <tr>\n",
       "      <th>freq</th>\n",
       "      <td>1</td>\n",
       "      <td>600</td>\n",
       "    </tr>\n",
       "  </tbody>\n",
       "</table>\n",
       "</div>"
      ],
      "text/plain": [
       "                                              Description Category\n",
       "count                                                3000     3000\n",
       "unique                                               3000        5\n",
       "top     hi since recruiter lead permission approve req...        D\n",
       "freq                                                    1      600"
      ]
     },
     "execution_count": 6,
     "metadata": {},
     "output_type": "execute_result"
    }
   ],
   "source": [
    "#describing our data\n",
    "tickets.describe()"
   ]
  },
  {
   "cell_type": "code",
   "execution_count": 7,
   "metadata": {},
   "outputs": [
    {
     "data": {
      "text/plain": [
       "Description    object\n",
       "Category       object\n",
       "dtype: object"
      ]
     },
     "execution_count": 7,
     "metadata": {},
     "output_type": "execute_result"
    }
   ],
   "source": [
    "#checking data-type of each attribute\n",
    "tickets.dtypes"
   ]
  },
  {
   "cell_type": "code",
   "execution_count": 8,
   "metadata": {},
   "outputs": [
    {
     "data": {
      "text/plain": [
       "array(['D', 'E', 'A', 'B', 'C'], dtype=object)"
      ]
     },
     "execution_count": 8,
     "metadata": {},
     "output_type": "execute_result"
    }
   ],
   "source": [
    "#checking values for our target variable\n",
    "tickets['Category'].unique()"
   ]
  },
  {
   "cell_type": "code",
   "execution_count": 9,
   "metadata": {},
   "outputs": [],
   "source": [
    "#setting column to predict\n",
    "column_to_predict = 'category'"
   ]
  },
  {
   "cell_type": "code",
   "execution_count": 10,
   "metadata": {},
   "outputs": [
    {
     "data": {
      "text/plain": [
       "False"
      ]
     },
     "execution_count": 10,
     "metadata": {},
     "output_type": "execute_result"
    }
   ],
   "source": [
    "#checking for NA value in our data\n",
    "tickets.isnull().values.any()"
   ]
  },
  {
   "cell_type": "code",
   "execution_count": 11,
   "metadata": {},
   "outputs": [
    {
     "data": {
      "text/plain": [
       "D    600\n",
       "E    600\n",
       "A    600\n",
       "B    600\n",
       "C    600\n",
       "Name: Category, dtype: int64"
      ]
     },
     "execution_count": 11,
     "metadata": {},
     "output_type": "execute_result"
    }
   ],
   "source": [
    "#distribution of target value\n",
    "tickets['Category'].value_counts()"
   ]
  },
  {
   "cell_type": "markdown",
   "metadata": {},
   "source": [
    "*DATA VISUALISATION*"
   ]
  },
  {
   "cell_type": "code",
   "execution_count": 12,
   "metadata": {},
   "outputs": [
    {
     "data": {
      "image/png": "[encoded data removed]",
      "text/plain": [
       "<Figure size 432x288 with 1 Axes>"
      ]
     },
     "metadata": {
      "needs_background": "light"
     },
     "output_type": "display_data"
    }
   ],
   "source": [
    "#visualizing data and the distribution of data\n",
    "ax = tickets.groupby('Category').count().plot(kind='bar', title='Distribution of data', legend=False)\n",
    "body, category  = list(tickets['Description']), list(tickets['Category'])"
   ]
  },
  {
   "cell_type": "code",
   "execution_count": 13,
   "metadata": {},
   "outputs": [
    {
     "data": {
      "text/plain": [
       "<AxesSubplot:xlabel='Category', ylabel='count'>"
      ]
     },
     "execution_count": 13,
     "metadata": {},
     "output_type": "execute_result"
    },
    {
     "data": {
      "image/png": "[encoded data removed]",
      "text/plain": [
       "<Figure size 432x288 with 1 Axes>"
      ]
     },
     "metadata": {
      "needs_background": "light"
     },
     "output_type": "display_data"
    }
   ],
   "source": [
    "#visualization of target values in our data\n",
    "sns.countplot(x='Category', data = tickets)"
   ]
  },
  {
   "cell_type": "markdown",
   "metadata": {},
   "source": [
    "*DATA PREPROCESSING*"
   ]
  },
  {
   "cell_type": "code",
   "execution_count": 14,
   "metadata": {},
   "outputs": [],
   "source": [
    "#converting the body of ticket to lower case\n",
    "def lowering_case(data):\n",
    "    print(\"Changing data to lower case...\", end = \"\")\n",
    "    data['Description'] = data['Description'].str.lower()\n",
    "    print(\" done!!\")\n",
    "    return data"
   ]
  },
  {
   "cell_type": "code",
   "execution_count": 15,
   "metadata": {},
   "outputs": [
    {
     "data": {
      "text/plain": [
       "{'a',\n",
       " 'about',\n",
       " 'above',\n",
       " 'after',\n",
       " 'again',\n",
       " 'ain',\n",
       " 'all',\n",
       " 'am',\n",
       " 'an',\n",
       " 'and',\n",
       " 'any',\n",
       " 'are',\n",
       " 'as',\n",
       " 'at',\n",
       " 'be',\n",
       " 'because',\n",
       " 'been',\n",
       " 'before',\n",
       " 'being',\n",
       " 'below',\n",
       " 'between',\n",
       " 'both',\n",
       " 'by',\n",
       " 'can',\n",
       " 'd',\n",
       " 'did',\n",
       " 'do',\n",
       " 'does',\n",
       " 'doing',\n",
       " 'down',\n",
       " 'during',\n",
       " 'each',\n",
       " 'few',\n",
       " 'for',\n",
       " 'friday',\n",
       " 'from',\n",
       " 'further',\n",
       " 'had',\n",
       " 'has',\n",
       " 'have',\n",
       " 'having',\n",
       " 'he',\n",
       " 'hello',\n",
       " 'her',\n",
       " 'here',\n",
       " 'hers',\n",
       " 'herself',\n",
       " 'him',\n",
       " 'himself',\n",
       " 'his',\n",
       " 'how',\n",
       " 'i',\n",
       " 'if',\n",
       " 'in',\n",
       " 'into',\n",
       " 'is',\n",
       " 'it',\n",
       " 'its',\n",
       " 'itself',\n",
       " 'just',\n",
       " 'll',\n",
       " 'm',\n",
       " 'ma',\n",
       " 'me',\n",
       " 'monday',\n",
       " 'more',\n",
       " 'most',\n",
       " 'my',\n",
       " 'myself',\n",
       " 'now',\n",
       " 'o',\n",
       " 'of',\n",
       " 'on',\n",
       " 'once',\n",
       " 'only',\n",
       " 'or',\n",
       " 'other',\n",
       " 'our',\n",
       " 'ours',\n",
       " 'ourselves',\n",
       " 'out',\n",
       " 'own',\n",
       " 'please',\n",
       " 're',\n",
       " 's',\n",
       " 'same',\n",
       " 'saturday',\n",
       " 'she',\n",
       " 'shes',\n",
       " 'should',\n",
       " 'shouldve',\n",
       " 'so',\n",
       " 'some',\n",
       " 'such',\n",
       " 'sunday',\n",
       " 't',\n",
       " 'than',\n",
       " 'thanks',\n",
       " 'thankyou',\n",
       " 'that',\n",
       " 'thatll',\n",
       " 'thats',\n",
       " 'the',\n",
       " 'their',\n",
       " 'theirs',\n",
       " 'them',\n",
       " 'themselves',\n",
       " 'then',\n",
       " 'there',\n",
       " 'these',\n",
       " 'they',\n",
       " 'this',\n",
       " 'those',\n",
       " 'through',\n",
       " 'thursday',\n",
       " 'to',\n",
       " 'too',\n",
       " 'tuesday',\n",
       " 'under',\n",
       " 'until',\n",
       " 'up',\n",
       " 've',\n",
       " 'very',\n",
       " 'was',\n",
       " 'we',\n",
       " 'wednessday',\n",
       " 'were',\n",
       " 'what',\n",
       " 'when',\n",
       " 'where',\n",
       " 'which',\n",
       " 'while',\n",
       " 'who',\n",
       " 'whom',\n",
       " 'why',\n",
       " 'will',\n",
       " 'with',\n",
       " 'won',\n",
       " 'y',\n",
       " 'you',\n",
       " 'youd',\n",
       " 'youll',\n",
       " 'your',\n",
       " 'youre',\n",
       " 'yours',\n",
       " 'yourself',\n",
       " 'yourselves',\n",
       " 'youve'}"
      ]
     },
     "execution_count": 15,
     "metadata": {},
     "output_type": "execute_result"
    }
   ],
   "source": [
    "#defining stopwords\n",
    "stopwordlist = ['a', 'about', 'above', 'after', 'again', 'ain', 'all', 'am', 'an',\n",
    "             'and','any','are', 'as', 'at', 'be', 'because', 'been', 'before',\n",
    "             'being', 'below', 'between','both', 'by', 'can', 'd', 'did', 'do',\n",
    "             'does', 'doing', 'down', 'during', 'each','few', 'for', 'from',\n",
    "             'further', 'had', 'has', 'have', 'having', 'he', 'her', 'here',\n",
    "             'hers', 'herself', 'him', 'himself', 'his', 'how', 'i', 'if', 'in',\n",
    "             'into','is', 'it', 'its', 'itself', 'just', 'll', 'm', 'ma',\n",
    "             'me', 'more', 'most','my', 'myself', 'now', 'o', 'of', 'on', 'once',\n",
    "             'only', 'or', 'other', 'our', 'ours','ourselves', 'out', 'own', 're','s', 'same', 'she', \"shes\", 'should', \"shouldve\",'so', 'some', 'such',\n",
    "             't', 'than', 'that', 'thats', \"thatll\", 'the', 'their', 'theirs', 'them',\n",
    "             'themselves', 'then', 'there', 'these', 'they', 'this', 'those',\n",
    "             'through', 'to', 'too','under', 'until', 'up', 've', 'very', 'was',\n",
    "             'we', 'were', 'what', 'when', 'where','which','while', 'who', 'whom',\n",
    "             'why', 'will', 'with', 'won', 'y', 'you', \"youd\",\"youll\", \"youre\",\n",
    "             \"youve\", 'your', 'yours', 'yourself', 'yourselves', 'thanks', 'thankyou', 'hello', 'please', 'monday', 'tuesday', 'wednessday', 'thursday', 'friday', 'saturday', 'sunday']\n",
    "STOPWORDS = set(stopwordlist)\n",
    "STOPWORDS"
   ]
  },
  {
   "cell_type": "code",
   "execution_count": 16,
   "metadata": {},
   "outputs": [],
   "source": [
    "#removing stopwords from data\n",
    "def removing_stopword(data):\n",
    "    print(\"Removing stopwords from data...\", end = \"\")\n",
    "    def cleaning_stopwords(text):\n",
    "        return \" \".join([word for word in str(text).split() if word not in STOPWORDS])\n",
    "    data['Description'] = data['Description'].apply(lambda x: cleaning_stopwords(x))\n",
    "    print(\" done!!\")\n",
    "    return data"
   ]
  },
  {
   "cell_type": "code",
   "execution_count": 17,
   "metadata": {},
   "outputs": [],
   "source": [
    "#removing punctuations\n",
    "def removing_punctuations(data):\n",
    "    print(\"Removing puncuations from data...\", end = \"\")\n",
    "    punctuations_list = string.punctuation\n",
    "    def cleaning_punctuations(text):\n",
    "        translator = str.maketrans('', '', punctuations_list)\n",
    "        return text.translate(translator)\n",
    "    data['Description'] = data['Description'].apply(lambda x: cleaning_punctuations(x))\n",
    "    print(\" done!!\")\n",
    "    return data"
   ]
  },
  {
   "cell_type": "code",
   "execution_count": 18,
   "metadata": {},
   "outputs": [],
   "source": [
    "#removing repeating characeters\n",
    "def removing_repeatingchars(data):\n",
    "    print(\"Removing repeating characters...\", end = \"\")\n",
    "    def cleaning_repeating_chars(text):\n",
    "        return re.sub(r'(.)1+', r'1', text)\n",
    "    data['Description'] = data['Description'].apply(lambda x: cleaning_repeating_chars(x))\n",
    "    print(\" done!!\")\n",
    "    return data"
   ]
  },
  {
   "cell_type": "code",
   "execution_count": 19,
   "metadata": {},
   "outputs": [],
   "source": [
    "#tokenizing\n",
    "def tokenizing(data):\n",
    "    print(\"Tokenizing data...\", end = \"\")\n",
    "    tokenizer = RegexpTokenizer('\\s+', gaps = True)\n",
    "    data['Description'] = data['Description'].apply(tokenizer.tokenize)\n",
    "    print(\" done!!\")\n",
    "    return data"
   ]
  },
  {
   "cell_type": "code",
   "execution_count": 20,
   "metadata": {},
   "outputs": [],
   "source": [
    "#lemmatizing\n",
    "def lemmatizing(data):\n",
    "    print(\"Lemmatizing data...\", end = \"\")\n",
    "    lm = nltk.WordNetLemmatizer()\n",
    "    def lemmatizer_on_text(data):\n",
    "        data = [lm.lemmatize(word) for word in data]\n",
    "        return data\n",
    "    data['Decription'] = data['Description'].apply(lambda x: lemmatizer_on_text(x))\n",
    "    print(\" done!!\")\n",
    "    return data"
   ]
  },
  {
   "cell_type": "code",
   "execution_count": 21,
   "metadata": {},
   "outputs": [],
   "source": [
    "#stemming\n",
    "def stemming(data):\n",
    "    print(\"Stemming data...\", end = \"\")\n",
    "    st = nltk.PorterStemmer()\n",
    "    def stemming_on_text(data):\n",
    "        data = [st.stem(word) for word in data]\n",
    "        return data\n",
    "    data['Description'] = data['Description'].apply(lambda x: stemming_on_text(x))\n",
    "    print(\" done!!\")\n",
    "    return data"
   ]
  },
  {
   "cell_type": "code",
   "execution_count": 22,
   "metadata": {},
   "outputs": [],
   "source": [
    "#we will use ticket description i.e., the body of the ticket to predict it's category\n",
    "dataset = tickets[['Description', 'Category']]"
   ]
  },
  {
   "cell_type": "code",
   "execution_count": 23,
   "metadata": {},
   "outputs": [],
   "source": [
    "# preparing dataset to feed our model\n",
    "def process_data(dataset):\n",
    "    dataset = lowering_case(dataset)\n",
    "    dataset = removing_repeatingchars(dataset)\n",
    "    dataset = removing_punctuations(dataset)\n",
    "    dataset = removing_stopword(dataset)\n",
    "    dataset = tokenizing(dataset)\n",
    "    dataset = lemmatizing(dataset)\n",
    "    dataset = stemming(dataset)\n",
    "    print(\"\\nData ready to feed to the model.\")\n",
    "    return dataset"
   ]
  },
  {
   "cell_type": "code",
   "execution_count": 24,
   "metadata": {},
   "outputs": [],
   "source": [
    "# preparing raw data to feed our model\n",
    "def process_raw_data(dataset):\n",
    "    print(dataset['Description'])\n",
    "    dataset = lowering_case(dataset)\n",
    "    print(dataset['Description'])\n",
    "    dataset = removing_repeatingchars(dataset)\n",
    "    print(dataset['Description'])\n",
    "    dataset = removing_punctuations(dataset)\n",
    "    print(dataset['Description'])\n",
    "    dataset = removing_stopword(dataset)\n",
    "    print(dataset['Description'])\n",
    "    dataset = tokenizing(dataset)\n",
    "    print(dataset['Description'])\n",
    "    dataset = lemmatizing(dataset)\n",
    "    print(dataset['Description'])\n",
    "    dataset = stemming(dataset)\n",
    "    print(dataset['Description'])\n",
    "    print(\"\\nData ready to feed to the model.\")\n",
    "    return dataset"
   ]
  },
  {
   "cell_type": "code",
   "execution_count": 25,
   "metadata": {},
   "outputs": [
    {
     "name": "stdout",
     "output_type": "stream",
     "text": [
      "Changing data to lower case... done!!\n",
      "Removing repeating characters... done!!\n",
      "Removing puncuations from data... done!!\n",
      "Removing stopwords from data... done!!\n",
      "Tokenizing data... done!!\n",
      "Lemmatizing data... done!!\n",
      "Stemming data... done!!\n",
      "\n",
      "Data ready to feed to the model.\n"
     ]
    }
   ],
   "source": [
    "#Natural language processing on dataset\n",
    "dataset = process_data(dataset)"
   ]
  },
  {
   "cell_type": "markdown",
   "metadata": {},
   "source": [
    "*MODEL TRAINING AND VALIDATING*"
   ]
  },
  {
   "cell_type": "code",
   "execution_count": 26,
   "metadata": {},
   "outputs": [],
   "source": [
    "# defining X and y\n",
    "X = dataset.Description.astype('str')\n",
    "y = dataset.Category"
   ]
  },
  {
   "cell_type": "code",
   "execution_count": 27,
   "metadata": {},
   "outputs": [],
   "source": [
    "# spliting data into test and train set\n",
    "X_train, X_test, y_train, y_test = train_test_split(X, y, test_size = 0.20, random_state = 1)"
   ]
  },
  {
   "cell_type": "code",
   "execution_count": 28,
   "metadata": {},
   "outputs": [
    {
     "name": "stdout",
     "output_type": "stream",
     "text": [
      "No. of feature_words:  37777\n"
     ]
    }
   ],
   "source": [
    "# using vectorizer\n",
    "vectoriser = TfidfVectorizer(ngram_range = (1, 2), max_features = 5000000)\n",
    "vectoriser.fit(X_train)\n",
    "print('No. of feature_words: ', len(vectoriser.get_feature_names_out()))"
   ]
  },
  {
   "cell_type": "code",
   "execution_count": 29,
   "metadata": {},
   "outputs": [],
   "source": [
    "# vectorizing data\n",
    "X_train = vectoriser.transform(X_train)\n",
    "X_test = vectoriser.transform(X_test)"
   ]
  },
  {
   "cell_type": "code",
   "execution_count": 30,
   "metadata": {},
   "outputs": [],
   "source": [
    "#defining a function to evaluate differnt models\n",
    "def model_evaluate(model):\n",
    "    y_pred = model.predict(X_test)\n",
    "    print(classification_report(y_test, y_pred))\n",
    "    cf_matrix = confusion_matrix(y_test, y_pred)\n",
    "\n",
    "    sns.heatmap(cf_matrix, cmap = 'Blues',fmt = '')\n",
    "    plt.xlabel(\"Predicted values\", fontdict = {'size':14}, labelpad = 10)\n",
    "    plt.ylabel(\"Actual values\" , fontdict = {'size':14}, labelpad = 10)\n",
    "    plt.title (\"Confusion Matrix\", fontdict = {'size':18}, pad = 20)"
   ]
  },
  {
   "cell_type": "code",
   "execution_count": 31,
   "metadata": {},
   "outputs": [
    {
     "name": "stdout",
     "output_type": "stream",
     "text": [
      "              precision    recall  f1-score   support\n",
      "\n",
      "           A       0.92      0.28      0.43       118\n",
      "           B       0.39      0.98      0.56       125\n",
      "           C       0.82      0.68      0.74       130\n",
      "           D       0.73      0.32      0.45       115\n",
      "           E       0.80      0.66      0.73       112\n",
      "\n",
      "    accuracy                           0.59       600\n",
      "   macro avg       0.73      0.58      0.58       600\n",
      "weighted avg       0.73      0.59      0.58       600\n",
      "\n"
     ]
    },
    {
     "data": {
      "image/png": "[encoded data removed]",
      "text/plain": [
       "<Figure size 432x288 with 2 Axes>"
      ]
     },
     "metadata": {
      "needs_background": "light"
     },
     "output_type": "display_data"
    }
   ],
   "source": [
    "# using Bernoulli's Naive Bayes\n",
    "BNBmodel = BernoulliNB()\n",
    "BNBmodel.fit(X_train, y_train)\n",
    "model_evaluate(BNBmodel)\n",
    "y_pred1 = BNBmodel.predict(X_test)"
   ]
  },
  {
   "cell_type": "code",
   "execution_count": 32,
   "metadata": {},
   "outputs": [
    {
     "name": "stdout",
     "output_type": "stream",
     "text": [
      "              precision    recall  f1-score   support\n",
      "\n",
      "           A       0.79      0.75      0.77       118\n",
      "           B       0.81      0.86      0.83       125\n",
      "           C       0.88      0.82      0.85       130\n",
      "           D       0.73      0.79      0.76       115\n",
      "           E       0.85      0.83      0.84       112\n",
      "\n",
      "    accuracy                           0.81       600\n",
      "   macro avg       0.81      0.81      0.81       600\n",
      "weighted avg       0.81      0.81      0.81       600\n",
      "\n"
     ]
    },
    {
     "data": {
      "image/png": "[encoded data removed]",
      "text/plain": [
       "<Figure size 432x288 with 2 Axes>"
      ]
     },
     "metadata": {
      "needs_background": "light"
     },
     "output_type": "display_data"
    }
   ],
   "source": [
    "# using support vector machine\n",
    "SVCmodel = LinearSVC()\n",
    "SVCmodel.fit(X_train, y_train)\n",
    "model_evaluate(SVCmodel)\n",
    "y_pred2 = SVCmodel.predict(X_test)"
   ]
  },
  {
   "cell_type": "code",
   "execution_count": 33,
   "metadata": {},
   "outputs": [
    {
     "name": "stdout",
     "output_type": "stream",
     "text": [
      "              precision    recall  f1-score   support\n",
      "\n",
      "           A       0.76      0.77      0.77       118\n",
      "           B       0.81      0.86      0.83       125\n",
      "           C       0.89      0.78      0.84       130\n",
      "           D       0.69      0.80      0.74       115\n",
      "           E       0.88      0.80      0.84       112\n",
      "\n",
      "    accuracy                           0.80       600\n",
      "   macro avg       0.81      0.80      0.80       600\n",
      "weighted avg       0.81      0.80      0.80       600\n",
      "\n"
     ]
    },
    {
     "data": {
      "image/png": "[encoded data removed]",
      "text/plain": [
       "<Figure size 432x288 with 2 Axes>"
      ]
     },
     "metadata": {
      "needs_background": "light"
     },
     "output_type": "display_data"
    }
   ],
   "source": [
    "# using Logistic Regression\n",
    "LRmodel = LogisticRegression(C = 2, max_iter = 1000, n_jobs=-1)\n",
    "LRmodel.fit(X_train, y_train)\n",
    "model_evaluate(LRmodel)\n",
    "y_pred3 = LRmodel.predict(X_test)"
   ]
  },
  {
   "cell_type": "code",
   "execution_count": 34,
   "metadata": {},
   "outputs": [],
   "source": [
    "# selecting model with best accuracy\n",
    "final_model = SVCmodel"
   ]
  },
  {
   "cell_type": "markdown",
   "metadata": {},
   "source": [
    "*DEPLOYING MODEL*"
   ]
  },
  {
   "cell_type": "code",
   "execution_count": 35,
   "metadata": {},
   "outputs": [
    {
     "name": "stdout",
     "output_type": "stream",
     "text": [
      " * Serving Flask app '__main__' (lazy loading)\n",
      " * Environment: production\n",
      "\u001b[31m   WARNING: This is a development server. Do not use it in a production deployment.\u001b[0m\n",
      "\u001b[2m   Use a production WSGI server instead.\u001b[0m\n",
      " * Debug mode: off\n"
     ]
    },
    {
     "name": "stderr",
     "output_type": "stream",
     "text": [
      " * Running on http://127.0.0.1:5000 (Press CTRL+C to quit)\n",
      "127.0.0.1 - - [05/May/2022 21:52:14] \"GET / HTTP/1.1\" 200 -\n",
      "127.0.0.1 - - [05/May/2022 21:52:14] \"GET /static/style.css HTTP/1.1\" 200 -\n",
      "127.0.0.1 - - [05/May/2022 21:52:14] \"\u001b[33mGET /favicon.ico HTTP/1.1\u001b[0m\" 404 -\n",
      "127.0.0.1 - - [05/May/2022 22:06:52] \"POST /sub HTTP/1.1\" 200 -\n"
     ]
    },
    {
     "name": "stdout",
     "output_type": "stream",
     "text": [
      "Ticket =                     Description  title\n",
      "0  laptop not working properly  hello\n",
      "0    laptop not working properly\n",
      "Name: Description, dtype: object\n",
      "Changing data to lower case... done!!\n",
      "0    laptop not working properly\n",
      "Name: Description, dtype: object\n",
      "Removing repeating characters... done!!\n",
      "0    laptop not working properly\n",
      "Name: Description, dtype: object\n",
      "Removing puncuations from data... done!!\n",
      "0    laptop not working properly\n",
      "Name: Description, dtype: object\n",
      "Removing stopwords from data... done!!\n",
      "0    laptop not working properly\n",
      "Name: Description, dtype: object\n",
      "Tokenizing data... done!!\n",
      "0    [laptop, not, working, properly]\n",
      "Name: Description, dtype: object\n",
      "Lemmatizing data... done!!\n",
      "0    [laptop, not, working, properly]\n",
      "Name: Description, dtype: object\n",
      "Stemming data... done!!\n",
      "0    [laptop, not, work, properli]\n",
      "Name: Description, dtype: object\n",
      "\n",
      "Data ready to feed to the model.\n",
      "Ticket forwarded to destination ['E']\n"
     ]
    },
    {
     "name": "stderr",
     "output_type": "stream",
     "text": [
      "127.0.0.1 - - [05/May/2022 22:06:53] \"\u001b[36mGET /static/style.css HTTP/1.1\u001b[0m\" 304 -\n",
      "127.0.0.1 - - [05/May/2022 22:07:09] \"POST /sub HTTP/1.1\" 200 -\n"
     ]
    },
    {
     "name": "stdout",
     "output_type": "stream",
     "text": [
      "Ticket =             Description  title\n",
      "0  wifi password reset  hello\n",
      "0    wifi password reset\n",
      "Name: Description, dtype: object\n",
      "Changing data to lower case... done!!\n",
      "0    wifi password reset\n",
      "Name: Description, dtype: object\n",
      "Removing repeating characters... done!!\n",
      "0    wifi password reset\n",
      "Name: Description, dtype: object\n",
      "Removing puncuations from data... done!!\n",
      "0    wifi password reset\n",
      "Name: Description, dtype: object\n",
      "Removing stopwords from data... done!!\n",
      "0    wifi password reset\n",
      "Name: Description, dtype: object\n",
      "Tokenizing data... done!!\n",
      "0    [wifi, password, reset]\n",
      "Name: Description, dtype: object\n",
      "Lemmatizing data... done!!\n",
      "0    [wifi, password, reset]\n",
      "Name: Description, dtype: object\n",
      "Stemming data... done!!\n",
      "0    [wifi, password, reset]\n",
      "Name: Description, dtype: object\n",
      "\n",
      "Data ready to feed to the model.\n",
      "Ticket forwarded to destination ['E']\n"
     ]
    },
    {
     "name": "stderr",
     "output_type": "stream",
     "text": [
      "127.0.0.1 - - [05/May/2022 22:07:09] \"\u001b[36mGET /static/style.css HTTP/1.1\u001b[0m\" 304 -\n",
      "127.0.0.1 - - [05/May/2022 22:07:24] \"POST /sub HTTP/1.1\" 200 -\n"
     ]
    },
    {
     "name": "stdout",
     "output_type": "stream",
     "text": [
      "Ticket =            Description  title\n",
      "0  moodle login issue  hello\n",
      "0    moodle login issue\n",
      "Name: Description, dtype: object\n",
      "Changing data to lower case... done!!\n",
      "0    moodle login issue\n",
      "Name: Description, dtype: object\n",
      "Removing repeating characters... done!!\n",
      "0    moodle login issue\n",
      "Name: Description, dtype: object\n",
      "Removing puncuations from data... done!!\n",
      "0    moodle login issue\n",
      "Name: Description, dtype: object\n",
      "Removing stopwords from data... done!!\n",
      "0    moodle login issue\n",
      "Name: Description, dtype: object\n",
      "Tokenizing data... done!!\n",
      "0    [moodle, login, issue]\n",
      "Name: Description, dtype: object\n",
      "Lemmatizing data... done!!\n",
      "0    [moodle, login, issue]\n",
      "Name: Description, dtype: object\n",
      "Stemming data... done!!\n",
      "0    [moodl, login, issu]\n",
      "Name: Description, dtype: object\n",
      "\n",
      "Data ready to feed to the model.\n",
      "Ticket forwarded to destination ['A']\n"
     ]
    },
    {
     "name": "stderr",
     "output_type": "stream",
     "text": [
      "127.0.0.1 - - [05/May/2022 22:07:24] \"\u001b[36mGET /static/style.css HTTP/1.1\u001b[0m\" 304 -\n"
     ]
    }
   ],
   "source": [
    "#deploying our model\n",
    "app = Flask(__name__)\n",
    "\n",
    "@app.route(\"/\", methods= [\"GET\", \"POST\"])\n",
    "def home():\n",
    "    return render_template(\"index.html\")\n",
    "\n",
    "@app.route(\"/sub\", methods = ['POST'])\n",
    "def result():\n",
    "    if request.method == \"POST\":\n",
    "\n",
    "        #receiving ticket\n",
    "        title = request.form[\"title\"]\n",
    "        description = request.form[\"body\"]\n",
    "        \n",
    "        #processing ticket data\n",
    "        raw_data = pd.DataFrame([[description, title]])\n",
    "        col_names = [\"Description\", \"title\"]\n",
    "        raw_data.columns = col_names\n",
    "        print(\"Ticket = \",raw_data)\n",
    "        data = process_raw_data(raw_data)\n",
    "        X = data.Description.astype(str)\n",
    "        X = vectoriser.transform(X)\n",
    "\n",
    "        y = final_model.predict(X)\n",
    "        Category = y\n",
    "        print(\"Ticket forwarded to destination\", Category)\n",
    "        \n",
    "        #showing results\n",
    "        return render_template(\"submit.html\", show = Category)\n",
    " \n",
    "if __name__ == \"__main__\":\n",
    "    app.run()"
   ]
  },
  {
   "cell_type": "code",
   "execution_count": null,
   "metadata": {},
   "outputs": [],
   "source": []
  }
 ],
 "metadata": {
  "interpreter": {
   "hash": "e856646e9efed25199fd09930d78d179876ea19ef2e344479908aad547c55da9"
  },
  "kernelspec": {
   "display_name": "Python 3.9.7 ('virtual-env')",
   "language": "python",
   "name": "python3"
  },
  "language_info": {
   "codemirror_mode": {
    "name": "ipython",
    "version": 3
   },
   "file_extension": ".py",
   "mimetype": "text/x-python",
   "name": "python",
   "nbconvert_exporter": "python",
   "pygments_lexer": "ipython3",
   "version": "3.10.4"
  },
  "orig_nbformat": 4
 },
 "nbformat": 4,
 "nbformat_minor": 2
}
